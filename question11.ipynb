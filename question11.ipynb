{
 "cells": [
  {
   "cell_type": "markdown",
   "id": "41cef667-d082-42fa-82d3-cf51d62c35c6",
   "metadata": {},
   "source": [
    "# Eric Haswell\n",
    "\n",
    "Notebook for assignment 7"
   ]
  },
  {
   "cell_type": "code",
   "execution_count": 3,
   "id": "4974cf9d-368b-4655-9db8-1c1494ef3d09",
   "metadata": {},
   "outputs": [
    {
     "data": {
      "text/plain": [
       "5.0"
      ]
     },
     "execution_count": 3,
     "metadata": {},
     "output_type": "execute_result"
    }
   ],
   "source": [
    "def compute_mean(mylist):\n",
    "    return sum(mylist) / len(mylist)\n",
    " \n",
    "compute_mean([2, 4, 6, 8])"
   ]
  },
  {
   "cell_type": "markdown",
   "id": "2e685eec-c28b-40d0-8d85-b330efad4694",
   "metadata": {},
   "source": [
    "The above function calculates the mean from a given list of numbers.\n",
    "\n",
    "In Latex, the formula would be: $ M = s/l $\n",
    "\n"
   ]
  },
  {
   "cell_type": "markdown",
   "id": "bc466e5c-a2f0-497e-b8f9-68abdf27159f",
   "metadata": {
    "tags": []
   },
   "source": [
    "$$\\overline{X} = (1+x)^n = \\sum_{i=0}^n {i \\choose n} x^i$$ \n",
    "\n"
   ]
  },
  {
   "cell_type": "markdown",
   "id": "f45b7c75-300b-4ead-8bc7-bf227b063635",
   "metadata": {},
   "source": [
    " $$\\( \\frac{1}{n} \\sum_{i=i}^{n} x_{i} \\)$$"
   ]
  },
  {
   "cell_type": "markdown",
   "id": "c0dc8ae3-581d-4a71-9232-a4201e63f637",
   "metadata": {},
   "source": [
    "$$\\overline{X} = (1+x)^n = \\sum_{i=i}^{n} x_{i} x^i$$"
   ]
  },
  {
   "cell_type": "markdown",
   "id": "3f08c0a1-5c26-4d6b-bd70-3d0ad2ba8a1e",
   "metadata": {},
   "source": [
    "$$\\overline{X} = (1+x)^n = \\sum_{i=i}^{n} x_{i}$$"
   ]
  },
  {
   "cell_type": "markdown",
   "id": "81508dbc-dbf0-46dd-b5e8-4481f3f04161",
   "metadata": {},
   "source": [
    "$$\\frac{-y}{x^2+y^2}$$"
   ]
  },
  {
   "cell_type": "markdown",
   "id": "ccd353c2-d061-4bac-9876-b7a7b4d5e143",
   "metadata": {},
   "source": [
    "$$\\overline{X} = \\frac{x_1+x_2+\\cdots+x_n}{n} = \\frac{1}{n} \\left( \\sum_{i=l}^{n} x_{i}\\right)$$"
   ]
  },
  {
   "cell_type": "markdown",
   "id": "2991ccb5-afe0-4ea1-9997-2b7ed4354d8e",
   "metadata": {},
   "source": [
    "$$\\overline{X} = \\frac{x_{1}+x_{2}+\\cdots+x_{n}}{n} = \\frac{1}{n} \\left( \\sum_{i=l}^{n} x_{i}\\right)$$"
   ]
  },
  {
   "cell_type": "code",
   "execution_count": null,
   "id": "a058deb8-c7ef-46fb-9783-bb0327e11653",
   "metadata": {},
   "outputs": [],
   "source": []
  }
 ],
 "metadata": {
  "kernelspec": {
   "display_name": "Python 3 (ipykernel)",
   "language": "python",
   "name": "python3"
  },
  "language_info": {
   "codemirror_mode": {
    "name": "ipython",
    "version": 3
   },
   "file_extension": ".py",
   "mimetype": "text/x-python",
   "name": "python",
   "nbconvert_exporter": "python",
   "pygments_lexer": "ipython3",
   "version": "3.10.10"
  }
 },
 "nbformat": 4,
 "nbformat_minor": 5
}
