{
 "cells": [
  {
   "cell_type": "markdown",
   "id": "41cef667-d082-42fa-82d3-cf51d62c35c6",
   "metadata": {},
   "source": [
    "# Eric Haswell\n",
    "\n",
    "Notebook for assignment 7"
   ]
  },
  {
   "cell_type": "code",
   "execution_count": 1,
   "id": "4974cf9d-368b-4655-9db8-1c1494ef3d09",
   "metadata": {},
   "outputs": [
    {
     "data": {
      "text/plain": [
       "5.0"
      ]
     },
     "execution_count": 1,
     "metadata": {},
     "output_type": "execute_result"
    }
   ],
   "source": [
    "def compute_mean(mylist):\n",
    "    return sum(mylist) / len(mylist)\n",
    " \n",
    "compute_mean([2, 4, 6, 8])"
   ]
  },
  {
   "cell_type": "markdown",
   "id": "2e685eec-c28b-40d0-8d85-b330efad4694",
   "metadata": {},
   "source": [
    "The above Python function calculates the mean from a given list of numbers. In Latex, the formula would be: \n",
    "\n",
    "$ M = s/l $ \n",
    "\n",
    "(NB: I know very little of mathematics and am not sure if I'm using these letters correctly. Just doing my best here)\n",
    "\n"
   ]
  },
  {
   "cell_type": "markdown",
   "id": "ccd353c2-d061-4bac-9876-b7a7b4d5e143",
   "metadata": {},
   "source": [
    "Here is one method of expression the equation of the mean:\n",
    "\n",
    "$$\\overline{X} = \\frac{x_1+x_2+\\cdots+x_n}{n} = \\frac{1}{n} \\left( \\sum_{i=l}^{n} x_{i}\\right)$$"
   ]
  },
  {
   "cell_type": "markdown",
   "id": "2991ccb5-afe0-4ea1-9997-2b7ed4354d8e",
   "metadata": {},
   "source": [
    "Here is another method:\n",
    "\n",
    "$$\\overline{X} = \\frac{x_{1}+x_{2}+\\cdots+x_{n}}{n} = \\frac{1}{n} \\left( \\sum_{i=l}^{n} x_{i}\\right)$$"
   ]
  }
 ],
 "metadata": {
  "kernelspec": {
   "display_name": "Python 3 (ipykernel)",
   "language": "python",
   "name": "python3"
  },
  "language_info": {
   "codemirror_mode": {
    "name": "ipython",
    "version": 3
   },
   "file_extension": ".py",
   "mimetype": "text/x-python",
   "name": "python",
   "nbconvert_exporter": "python",
   "pygments_lexer": "ipython3",
   "version": "3.10.10"
  }
 },
 "nbformat": 4,
 "nbformat_minor": 5
}
